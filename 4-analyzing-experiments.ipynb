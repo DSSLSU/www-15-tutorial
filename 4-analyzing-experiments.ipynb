{
 "cells": [
  {
   "cell_type": "markdown",
   "metadata": {
    "slideshow": {
     "slide_type": "skip"
    }
   },
   "source": [
    "First we load `rpy2.ipython` extension so we can execute `R` code."
   ]
  },
  {
   "cell_type": "code",
   "execution_count": 1,
   "metadata": {
    "collapsed": false,
    "slideshow": {
     "slide_type": "skip"
    }
   },
   "outputs": [],
   "source": [
    "%load_ext rpy2.ipython"
   ]
  },
  {
   "cell_type": "markdown",
   "metadata": {
    "slideshow": {
     "slide_type": "slide"
    }
   },
   "source": [
    "# Load up the Hadleyverse"
   ]
  },
  {
   "cell_type": "code",
   "execution_count": 2,
   "metadata": {
    "collapsed": false
   },
   "outputs": [
    {
     "data": {
      "text/plain": [
       "\n",
       "Attaching package: ‘dplyr’\n",
       "\n",
       "The following object is masked from ‘package:stats’:\n",
       "\n",
       "    filter\n",
       "\n",
       "The following objects are masked from ‘package:base’:\n",
       "\n",
       "    intersect, setdiff, setequal, union\n",
       "\n"
      ]
     },
     "metadata": {},
     "output_type": "display_data"
    }
   ],
   "source": [
    "%%R\n",
    "library(dplyr)\n",
    "library(tidyr)\n",
    "library(ggplot2)"
   ]
  },
  {
   "cell_type": "markdown",
   "metadata": {
    "slideshow": {
     "slide_type": "slide"
    }
   },
   "source": [
    "The data created by the experiment was logged in two places. Let's load them and join them."
   ]
  },
  {
   "cell_type": "code",
   "execution_count": 3,
   "metadata": {
    "collapsed": false,
    "slideshow": {
     "slide_type": "-"
    }
   },
   "outputs": [
    {
     "data": {
      "text/plain": [
       "Joining by: \"userid\"\n",
       "                                userid source.ideology subject.ideology select\n",
       "1 066c7bae-cff5-4880-ba1a-558144238471              -1                0      1\n",
       "2 066c7bae-cff5-4880-ba1a-558144238471              -1                0      1\n",
       "3 066c7bae-cff5-4880-ba1a-558144238471               0                0      1\n",
       "4 066c7bae-cff5-4880-ba1a-558144238471               0                0      1\n",
       "5 066c7bae-cff5-4880-ba1a-558144238471              -1                0      0\n",
       "6 066c7bae-cff5-4880-ba1a-558144238471              -1                0      0\n"
      ]
     },
     "metadata": {},
     "output_type": "display_data"
    }
   ],
   "source": [
    "%%R\n",
    "src2ideology <- c('foxnews'=1,'msnbc'=-1,'cnn'=0)\n",
    "\n",
    "Exp <- read.csv('webapp/experiment_data.csv', stringsAsFactors = FALSE) %>%\n",
    "  mutate(select = as.numeric(summary != ''),\n",
    "         source.ideology = src2ideology[source])\n",
    "\n",
    "Survey <- read.csv('webapp/survey_data.csv', stringsAsFactors = FALSE) %>%\n",
    "  filter(!is.na(response)) %>%\n",
    "  group_by(userid) %>%\n",
    "  summarise(response = first(response), reversed_scale = first(reversed_scale)) %>%\n",
    "  mutate(subject.ideology = response - 3)\n",
    "\n",
    "Results <- Exp %>% inner_join(Survey)\n",
    "\n",
    "head(Results %>% select(userid, source.ideology, subject.ideology, select))"
   ]
  },
  {
   "cell_type": "markdown",
   "metadata": {
    "slideshow": {
     "slide_type": "slide"
    }
   },
   "source": [
    "Now we can tabulate the selections by source ideology to see if there was an ATE."
   ]
  },
  {
   "cell_type": "code",
   "execution_count": 25,
   "metadata": {
    "collapsed": false
   },
   "outputs": [
    {
     "data": {
      "text/plain": [
       "Source: local data frame [6 x 5]\n",
       "Groups: source.ideology\n",
       "\n",
       "  source.ideology select   k   n         p\n",
       "1              -1      0 250 334 0.7485030\n",
       "2              -1      1  84 334 0.2514970\n",
       "3               0      0 202 253 0.7984190\n",
       "4               0      1  51 253 0.2015810\n",
       "5               1      0 178 248 0.7177419\n",
       "6               1      1  70 248 0.2822581\n"
      ]
     },
     "metadata": {},
     "output_type": "display_data"
    }
   ],
   "source": [
    "%%R\n",
    "Results %>%\n",
    "  group_by(source.ideology) %>%\n",
    "  mutate(n = n()) %>%\n",
    "  group_by(source.ideology, select) %>%\n",
    "  summarise(k = n(), n = first(n), p = k / n)"
   ]
  }
 ],
 "metadata": {
  "celltoolbar": "Slideshow",
  "kernelspec": {
   "display_name": "Python 2",
   "language": "python",
   "name": "python2"
  },
  "language_info": {
   "codemirror_mode": {
    "name": "ipython",
    "version": 2
   },
   "file_extension": ".py",
   "mimetype": "text/x-python",
   "name": "python",
   "nbconvert_exporter": "python",
   "pygments_lexer": "ipython2",
   "version": "2.7.8"
  }
 },
 "nbformat": 4,
 "nbformat_minor": 0
}
