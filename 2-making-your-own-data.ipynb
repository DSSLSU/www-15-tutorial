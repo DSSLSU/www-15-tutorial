{
 "cells": [
  {
   "cell_type": "markdown",
   "metadata": {
    "slideshow": {
     "slide_type": "slide"
    }
   },
   "source": [
    "# Making your own data"
   ]
  },
  {
   "cell_type": "markdown",
   "metadata": {
    "slideshow": {
     "slide_type": "slide"
    }
   },
   "source": [
    "### Overview\n",
    "- How PlanOut logs data\n",
    "- Flow for loading and analyzing data\n",
    "- Putting it all together: simulated web app and example analysis"
   ]
  },
  {
   "cell_type": "code",
   "execution_count": 1,
   "metadata": {
    "collapsed": false,
    "slideshow": {
     "slide_type": "skip"
    }
   },
   "outputs": [],
   "source": [
    "%load_ext rpy2.ipython\n",
    "from planout.ops.random import *\n",
    "from planout.experiment import SimpleExperiment\n",
    "import pandas as pd\n",
    "import json\n",
    "import random"
   ]
  },
  {
   "cell_type": "code",
   "execution_count": 2,
   "metadata": {
    "collapsed": false
   },
   "outputs": [
    {
     "data": {
      "text/plain": [
       "\n",
       "Attaching package: ‘dplyr’\n",
       "\n",
       "The following object is masked from ‘package:stats’:\n",
       "\n",
       "    filter\n",
       "\n",
       "The following objects are masked from ‘package:base’:\n",
       "\n",
       "    intersect, setdiff, setequal, union\n",
       "\n"
      ]
     },
     "metadata": {},
     "output_type": "display_data"
    }
   ],
   "source": [
    "%%R\n",
    "library(dplyr)"
   ]
  },
  {
   "cell_type": "markdown",
   "metadata": {
    "slideshow": {
     "slide_type": "slide"
    }
   },
   "source": [
    "# Logging"
   ]
  },
  {
   "cell_type": "markdown",
   "metadata": {
    "slideshow": {
     "slide_type": "slide"
    }
   },
   "source": [
    "## Log files"
   ]
  },
  {
   "cell_type": "markdown",
   "metadata": {},
   "source": [
    "Create a new experiment and get a randomized assignment"
   ]
  },
  {
   "cell_type": "code",
   "execution_count": 3,
   "metadata": {
    "collapsed": false
   },
   "outputs": [
    {
     "name": "stdout",
     "output_type": "stream",
     "text": [
      "Say something.\n"
     ]
    }
   ],
   "source": [
    "class LoggedExperiment(SimpleExperiment):\n",
    "    def assign(self, params, userid):\n",
    "        params.x = UniformChoice(\n",
    "            choices=[\"What's on your mind?\", \"Say something.\"],\n",
    "            unit=userid\n",
    "        )\n",
    "        params.y = BernoulliTrial(p=0.5, unit=userid)\n",
    "\n",
    "print LoggedExperiment(userid=8).get('x')"
   ]
  },
  {
   "cell_type": "markdown",
   "metadata": {},
   "source": [
    "Then open your terminal, navigate to the directory this notebook is in, and type:\n",
    "\n",
    "```\n",
    "> tail -f LoggedExperiment.log\n",
    "```\n",
    "\n",
    "You can now see how data is logged to your experiment as its run."
   ]
  },
  {
   "cell_type": "markdown",
   "metadata": {
    "slideshow": {
     "slide_type": "slide"
    }
   },
   "source": [
    "### Exposure logging"
   ]
  },
  {
   "cell_type": "markdown",
   "metadata": {},
   "source": [
    "- Parameter assignments are logged automatically the first time you retrieve a parameter\n",
    "- Logger can be configured to do caching, write to databases, etc."
   ]
  },
  {
   "cell_type": "code",
   "execution_count": 4,
   "metadata": {
    "collapsed": false
   },
   "outputs": [
    {
     "name": "stdout",
     "output_type": "stream",
     "text": [
      "What's on your mind?\n",
      "1\n"
     ]
    }
   ],
   "source": [
    "e = LoggedExperiment(userid=7)\n",
    "print e.get('x')\n",
    "print e.get('y')"
   ]
  },
  {
   "cell_type": "markdown",
   "metadata": {
    "slideshow": {
     "slide_type": "slide"
    }
   },
   "source": [
    "### Manual exposure logging"
   ]
  },
  {
   "cell_type": "markdown",
   "metadata": {},
   "source": [
    "Calling `log_exposure()` will force PlanOut to log an exposure event. You can optionally pass in additional data."
   ]
  },
  {
   "cell_type": "code",
   "execution_count": 5,
   "metadata": {
    "collapsed": false
   },
   "outputs": [],
   "source": [
    "e.log_exposure()\n",
    "e.log_exposure({'endpoint': 'home.py'})"
   ]
  },
  {
   "cell_type": "markdown",
   "metadata": {
    "slideshow": {
     "slide_type": "slide"
    }
   },
   "source": [
    "### Event logging"
   ]
  },
  {
   "cell_type": "markdown",
   "metadata": {},
   "source": [
    "You can also log arbitrary events. The first argument to `log_event()` is a required parameter that specifies the event type."
   ]
  },
  {
   "cell_type": "code",
   "execution_count": 6,
   "metadata": {
    "collapsed": false
   },
   "outputs": [],
   "source": [
    "e.log_event('post_status_update')\n",
    "e.log_event('post_status_update', {'type': 'photo'})"
   ]
  },
  {
   "cell_type": "markdown",
   "metadata": {
    "slideshow": {
     "slide_type": "slide"
    }
   },
   "source": [
    "## Custom logging"
   ]
  },
  {
   "cell_type": "markdown",
   "metadata": {},
   "source": [
    "- Logging method is configurable\n",
    "- Can write to arbitrary loggers"
   ]
  },
  {
   "cell_type": "code",
   "execution_count": 7,
   "metadata": {
    "collapsed": false
   },
   "outputs": [
    {
     "name": "stdout",
     "output_type": "stream",
     "text": [
      "{\"inputs\": {\"userid\": 7}, \"name\": \"CustomLoggedExperiment\", \"params\": {\"y\": 1, \"x\": \"What's on your mind?\"}, \"time\": 1432025516, \"salt\": \"CustomLoggedExperiment\", \"event\": \"exposure\"}\n",
      "What's on your mind?\n"
     ]
    }
   ],
   "source": [
    "class CustomLoggedExperiment(SimpleExperiment):\n",
    "    def assign(self, params, userid):\n",
    "        params.x = UniformChoice(\n",
    "            choices=[\"What's on your mind?\", \"Say something.\"],\n",
    "            unit=userid\n",
    "        )\n",
    "        params.y = BernoulliTrial(p=0.5, unit=userid)\n",
    "    def log(self, data):\n",
    "        print json.dumps(data)\n",
    "        \n",
    "e = CustomLoggedExperiment(userid=7)\n",
    "print e.get('x')"
   ]
  },
  {
   "cell_type": "markdown",
   "metadata": {},
   "source": [
    "# Putting it all together"
   ]
  },
  {
   "cell_type": "markdown",
   "metadata": {},
   "source": [
    "We simulate the components of a PlanOut-driven website and show how data analysis would work in conjunction with the data generated from the simulation.\n",
    "\n",
    "This hypothetical experiment looks at the effect of sorting a music album's songs by popularity (instead of say track number) on a Web-based music store.\n",
    "\n",
    "Our website simulation consists of four main parts:\n",
    " * Code to render the web page (which uses PlanOut to decide how to display items)\n",
    " * Code to handle item purchases (this logs the \"conversion\" event)\n",
    " * Code to simulate the process of users' purchase decision-making\n",
    " * A loop that simulates many users viewing many albums"
   ]
  },
  {
   "cell_type": "code",
   "execution_count": 8,
   "metadata": {
    "collapsed": false
   },
   "outputs": [],
   "source": [
    "class MusicExperiment(SimpleExperiment):\n",
    "    def assign(self, params, userid, albumid):\n",
    "        params.sort_by_rating = BernoulliTrial(p=0.2, unit=[userid, albumid])"
   ]
  },
  {
   "cell_type": "code",
   "execution_count": 9,
   "metadata": {
    "collapsed": false
   },
   "outputs": [],
   "source": [
    "def get_price(albumid):\n",
    "    \"look up the price of an album\"\n",
    "    # this would realistically hook into a database\n",
    "    return 11.99"
   ]
  },
  {
   "cell_type": "markdown",
   "metadata": {},
   "source": [
    "#### Rendering the web page"
   ]
  },
  {
   "cell_type": "code",
   "execution_count": 10,
   "metadata": {
    "collapsed": false
   },
   "outputs": [],
   "source": [
    "def render_webpage(userid, albumid):\n",
    "    'simulated web page rendering function'\n",
    "    \n",
    "    # get experiment for the given user / album pair.\n",
    "    e = MusicExperiment(userid=userid, albumid=albumid)\n",
    "    \n",
    "    # use log_exposure() so that we can also record the price\n",
    "    e.log_exposure({'price': get_price(albumid)})\n",
    "    \n",
    "    # use a default value with get() in production settings, in case\n",
    "    # your experimentation system goes down\n",
    "    if e.get('sort_by_rating', False):\n",
    "        songs = \"some sorted songs\" # this would sort the songs by rating\n",
    "    else:\n",
    "        songs = \"some non-sorted songs\"\n",
    "    \n",
    "    html = \"some HTML code involving %s\" % songs  # most valid html ever.\n",
    "    # render html"
   ]
  },
  {
   "cell_type": "markdown",
   "metadata": {},
   "source": [
    "#### Logging outcomes"
   ]
  },
  {
   "cell_type": "code",
   "execution_count": 11,
   "metadata": {
    "collapsed": false
   },
   "outputs": [],
   "source": [
    "def handle_purchase(userid, albumid):\n",
    "    'handles purchase of an album'\n",
    "    e = MusicExperiment(userid=userid, albumid=albumid)\n",
    "    e.log_event('purchase', {'price': get_price(albumid)})\n",
    "    # start album download"
   ]
  },
  {
   "cell_type": "markdown",
   "metadata": {
    "slideshow": {
     "slide_type": "slide"
    }
   },
   "source": [
    "### Generative model of user decision making"
   ]
  },
  {
   "cell_type": "code",
   "execution_count": 12,
   "metadata": {
    "collapsed": false
   },
   "outputs": [],
   "source": [
    "def simulate_user_decision(userid, albumid):\n",
    "    'simulate user experience'\n",
    "    # This function should be thought of as simulating a users' decision-making\n",
    "    # process for the given stimulus - and so we don't actually want to do any\n",
    "    # logging here.\n",
    "    e = MusicExperiment(userid=userid, albumid=albumid)\n",
    "    e.set_auto_exposure_logging(False)  # turn off auto-logging\n",
    "    \n",
    "    # users with sorted songs have a higher purchase rate\n",
    "    if e.get('sort_by_rating'):\n",
    "        prob_purchase = 0.15\n",
    "    else:\n",
    "        prob_purchase = 0.10\n",
    "    \n",
    "    # make purchase with probability prob_purchase\n",
    "    return random.random() < prob_purchase"
   ]
  },
  {
   "cell_type": "markdown",
   "metadata": {
    "slideshow": {
     "slide_type": "slide"
    }
   },
   "source": [
    "### Running the simulation"
   ]
  },
  {
   "cell_type": "code",
   "execution_count": 13,
   "metadata": {
    "collapsed": false
   },
   "outputs": [],
   "source": [
    "# We then simulate 500 users' visitation to 20 albums, and their decision to purchase\n",
    "random.seed(0)\n",
    "for u in xrange(500):\n",
    "    for a in xrange(20):\n",
    "        render_webpage(u, a)\n",
    "        if simulate_user_decision(u, a):\n",
    "            handle_purchase(u, a)"
   ]
  },
  {
   "cell_type": "markdown",
   "metadata": {
    "slideshow": {
     "slide_type": "slide"
    }
   },
   "source": [
    "# Analyzing your experiment"
   ]
  },
  {
   "cell_type": "markdown",
   "metadata": {
    "slideshow": {
     "slide_type": "slide"
    }
   },
   "source": [
    "### Standard analysis procedure\n",
    "- Data is logged to JSON.\n",
    "- Use a script to flatten file into tabular format\n",
    "- Join exposure data with outcome data\n",
    "- Analyze results"
   ]
  },
  {
   "cell_type": "code",
   "execution_count": 14,
   "metadata": {
    "collapsed": true,
    "slideshow": {
     "slide_type": "slide"
    }
   },
   "outputs": [],
   "source": [
    "# stolen from http://stackoverflow.com/questions/23019119/converting-multilevel-nested-dictionaries-to-pandas-dataframe\n",
    "from collections import OrderedDict\n",
    "def flatten(d):\n",
    "    \"Flatten an OrderedDict object\"\n",
    "    result = OrderedDict()\n",
    "    for k, v in d.items():\n",
    "        if isinstance(v, dict):\n",
    "            result.update(flatten(v))\n",
    "        else:\n",
    "            result[k] = v\n",
    "    return result"
   ]
  },
  {
   "cell_type": "code",
   "execution_count": 15,
   "metadata": {
    "collapsed": false
   },
   "outputs": [],
   "source": [
    "def log2csv(filename):\n",
    "    raw_log_data = [json.loads(i) for i in open(filename)]\n",
    "    log_data = pd.DataFrame.from_dict([flatten(i) for i in raw_log_data])\n",
    "    log_data.to_csv(filename[:-4] + '.csv', index=False)"
   ]
  },
  {
   "cell_type": "code",
   "execution_count": 16,
   "metadata": {
    "collapsed": true
   },
   "outputs": [],
   "source": [
    "log2csv('MusicExperiment.log')"
   ]
  },
  {
   "cell_type": "code",
   "execution_count": 17,
   "metadata": {
    "collapsed": false
   },
   "outputs": [
    {
     "data": {
      "text/plain": [
       "      albumid    event            name price            salt sort_by_rating\n",
       "22090       0 exposure MusicExperiment 11.99 MusicExperiment              0\n",
       "5454        5 exposure MusicExperiment 11.99 MusicExperiment              0\n",
       "6433       12 exposure MusicExperiment 11.99 MusicExperiment              0\n",
       "14720       6 exposure MusicExperiment 11.99 MusicExperiment              0\n",
       "13531      16 exposure MusicExperiment 11.99 MusicExperiment              0\n",
       "1984       14 exposure MusicExperiment 11.99 MusicExperiment              0\n",
       "954         7 purchase MusicExperiment 11.99 MusicExperiment              0\n",
       "22159       3 exposure MusicExperiment 11.99 MusicExperiment              1\n",
       "1111        7 exposure MusicExperiment 11.99 MusicExperiment              0\n",
       "21045       8 exposure MusicExperiment 11.99 MusicExperiment              0\n",
       "            time userid\n",
       "22090 1432025524    493\n",
       "5454  1431930243    245\n",
       "6433  1431930243    289\n",
       "14720 1432025523    161\n",
       "13531 1432025523    107\n",
       "1984  1431930242     88\n",
       "954   1431930242     42\n",
       "22159 1432025524    496\n",
       "1111  1431930242     49\n",
       "21045 1432025524    446\n"
      ]
     },
     "metadata": {},
     "output_type": "display_data"
    }
   ],
   "source": [
    "%%R\n",
    "log.data <- read.csv('MusicExperiment.csv')\n",
    "print(log.data %>% sample_n(10))"
   ]
  },
  {
   "cell_type": "code",
   "execution_count": 19,
   "metadata": {
    "collapsed": false
   },
   "outputs": [
    {
     "data": {
      "text/plain": [
       "Source: local data frame [2 x 2]\n",
       "\n",
       "     event     n\n",
       "1 exposure 20000\n",
       "2 purchase  2246\n"
      ]
     },
     "metadata": {},
     "output_type": "display_data"
    }
   ],
   "source": [
    "%%R\n",
    "log.data %>%\n",
    "  group_by(event) %>%\n",
    "  summarise(n=n())"
   ]
  },
  {
   "cell_type": "markdown",
   "metadata": {
    "slideshow": {
     "slide_type": "slide"
    }
   },
   "source": [
    "### Exposure data"
   ]
  },
  {
   "cell_type": "markdown",
   "metadata": {},
   "source": [
    "We first extract all user-album pairs that were exposed to an experiemntal treatment, and their parameter assignments."
   ]
  },
  {
   "cell_type": "code",
   "execution_count": 22,
   "metadata": {
    "collapsed": false
   },
   "outputs": [
    {
     "data": {
      "text/plain": [
       "Source: local data frame [6 x 4]\n",
       "Groups: userid, albumid\n",
       "\n",
       "  userid albumid sort_by_rating first_exposure_time\n",
       "1      0       0              0          1431930242\n",
       "2      0       1              0          1431930242\n",
       "3      0       2              0          1431930242\n",
       "4      0       3              0          1431930242\n",
       "5      0       4              0          1431930242\n",
       "6      0       5              1          1431930242\n"
      ]
     },
     "metadata": {},
     "output_type": "display_data"
    }
   ],
   "source": [
    "%%R\n",
    "\n",
    "exposures <- log.data %>%\n",
    "  filter(event == 'exposure') %>%\n",
    "  group_by(userid, albumid, sort_by_rating) %>%\n",
    "  summarise(first_exposure_time=min(time))\n",
    "head(exposures)"
   ]
  },
  {
   "cell_type": "markdown",
   "metadata": {
    "slideshow": {
     "slide_type": "slide"
    }
   },
   "source": [
    "### Outcome data"
   ]
  },
  {
   "cell_type": "code",
   "execution_count": 18,
   "metadata": {
    "collapsed": false
   },
   "outputs": [],
   "source": [
    "conversions = log_data[log_data.event=='purchase'][['userid', 'albumid','price']]\n",
    "df = pd.merge(unique_exposures, conversions, on=['userid', 'albumid'], how='left')\n",
    "df['purchased'] = df.price.notnull()\n",
    "df['revenue'] = df.purchased * df.price.fillna(0)"
   ]
  },
  {
   "cell_type": "code",
   "execution_count": 25,
   "metadata": {
    "collapsed": false
   },
   "outputs": [
    {
     "data": {
      "text/plain": [
       "Source: local data frame [6 x 4]\n",
       "Groups: userid, albumid\n",
       "\n",
       "  userid albumid price purchase_time\n",
       "1      1      15 11.99    1431930242\n",
       "2      2       0 11.99    1431930242\n",
       "3      2      12 11.99    1431930242\n",
       "4      3      15 11.99    1431930242\n",
       "5      4      17 11.99    1431930242\n",
       "6      5       9 11.99    1431930242\n"
      ]
     },
     "metadata": {},
     "output_type": "display_data"
    }
   ],
   "source": [
    "%%R\n",
    "conversions <- log.data %>%\n",
    "  filter(event == 'purchase') %>%\n",
    "  group_by(userid, albumid, price) %>%\n",
    "  summarise(purchase_time=min(time))\n",
    "head(conversions)"
   ]
  },
  {
   "cell_type": "markdown",
   "metadata": {
    "slideshow": {
     "slide_type": "slide"
    }
   },
   "source": [
    "### Joining treatments with outcomes"
   ]
  },
  {
   "cell_type": "code",
   "execution_count": 51,
   "metadata": {
    "collapsed": false
   },
   "outputs": [
    {
     "data": {
      "text/plain": [
       "Source: local data frame [6 x 6]\n",
       "Groups: userid, albumid\n",
       "\n",
       "  userid albumid sort_by_rating price purchased revenue\n",
       "1      0       0              0    NA     FALSE       0\n",
       "2      0       1              0    NA     FALSE       0\n",
       "3      0       2              0    NA     FALSE       0\n",
       "4      0       3              0    NA     FALSE       0\n",
       "5      0       4              0    NA     FALSE       0\n",
       "6      0       5              1    NA     FALSE       0\n"
      ]
     },
     "metadata": {},
     "output_type": "display_data"
    }
   ],
   "source": [
    "%%R\n",
    "all <- left_join(exposures, conversions, by=c('userid', 'albumid')) %>%\n",
    "  mutate(\n",
    "    purchased=!is.na(purchase_time),\n",
    "    revenue=ifelse(purchased, price, 0)\n",
    "  ) %>%\n",
    "  select(userid, albumid, sort_by_rating, price, purchased, revenue)\n",
    "head(all)"
   ]
  },
  {
   "cell_type": "markdown",
   "metadata": {
    "slideshow": {
     "slide_type": "slide"
    }
   },
   "source": [
    "### Analyzing the experimental results"
   ]
  },
  {
   "cell_type": "markdown",
   "metadata": {},
   "source": [
    "We successfully recover the purchase probability treatment effect"
   ]
  },
  {
   "cell_type": "code",
   "execution_count": 52,
   "metadata": {
    "collapsed": false
   },
   "outputs": [
    {
     "data": {
      "text/plain": [
       "Source: local data frame [2 x 4]\n",
       "\n",
       "  sort_by_rating prob.purchase avg.revenue    n\n",
       "1              0     0.1019029    1.221815 7988\n",
       "2              1     0.1535785    1.841407 2012\n"
      ]
     },
     "metadata": {},
     "output_type": "display_data"
    }
   ],
   "source": [
    "%%R\n",
    "all %>%\n",
    "  group_by(sort_by_rating) %>%\n",
    "  summarise(\n",
    "      prob.purchase=mean(purchased),\n",
    "      avg.revenue=mean(revenue),\n",
    "      n=n()\n",
    "  )"
   ]
  },
  {
   "cell_type": "markdown",
   "metadata": {
    "slideshow": {
     "slide_type": "slide"
    }
   },
   "source": [
    "### Analyzing the experimental results"
   ]
  },
  {
   "cell_type": "markdown",
   "metadata": {},
   "source": [
    "For the given $p$ and $N$, OLS gives us quick and reasonable approximation of the SE for our ATE."
   ]
  },
  {
   "cell_type": "code",
   "execution_count": 54,
   "metadata": {
    "collapsed": false
   },
   "outputs": [
    {
     "data": {
      "text/plain": [
       "\n",
       "Call:\n",
       "lm(formula = purchased ~ sort_by_rating, data = all)\n",
       "\n",
       "Residuals:\n",
       "    Min      1Q  Median      3Q     Max \n",
       "-0.1536 -0.1019 -0.1019 -0.1019  0.8981 \n",
       "\n",
       "Coefficients:\n",
       "               Estimate Std. Error t value Pr(>|t|)    \n",
       "(Intercept)    0.101903   0.003525  28.905  < 2e-16 ***\n",
       "sort_by_rating 0.051676   0.007860   6.575 5.11e-11 ***\n",
       "---\n",
       "Signif. codes:  0 ‘***’ 0.001 ‘**’ 0.01 ‘*’ 0.05 ‘.’ 0.1 ‘ ’ 1\n",
       "\n",
       "Residual standard error: 0.3151 on 9998 degrees of freedom\n",
       "Multiple R-squared:  0.004305,\tAdjusted R-squared:  0.004206 \n",
       "F-statistic: 43.23 on 1 and 9998 DF,  p-value: 5.111e-11\n",
       "\n",
       "\n",
       "Call:\n",
       "lm(formula = revenue ~ sort_by_rating, data = all)\n",
       "\n",
       "Residuals:\n",
       "   Min     1Q Median     3Q    Max \n",
       "-1.841 -1.222 -1.222 -1.222 10.768 \n",
       "\n",
       "Coefficients:\n",
       "               Estimate Std. Error t value Pr(>|t|)    \n",
       "(Intercept)     1.22182    0.04227  28.905  < 2e-16 ***\n",
       "sort_by_rating  0.61959    0.09424   6.575 5.11e-11 ***\n",
       "---\n",
       "Signif. codes:  0 ‘***’ 0.001 ‘**’ 0.01 ‘*’ 0.05 ‘.’ 0.1 ‘ ’ 1\n",
       "\n",
       "Residual standard error: 3.778 on 9998 degrees of freedom\n",
       "Multiple R-squared:  0.004305,\tAdjusted R-squared:  0.004206 \n",
       "F-statistic: 43.23 on 1 and 9998 DF,  p-value: 5.111e-11\n",
       "\n"
      ]
     },
     "metadata": {},
     "output_type": "display_data"
    }
   ],
   "source": [
    "%%R\n",
    "print(summary(lm(purchased ~ sort_by_rating, data=all)))\n",
    "print(summary(lm(revenue ~ sort_by_rating, data=all)))"
   ]
  }
 ],
 "metadata": {
  "celltoolbar": "Slideshow",
  "kernelspec": {
   "display_name": "Python 2",
   "language": "python",
   "name": "python2"
  },
  "language_info": {
   "codemirror_mode": {
    "name": "ipython",
    "version": 2
   },
   "file_extension": ".py",
   "mimetype": "text/x-python",
   "name": "python",
   "nbconvert_exporter": "python",
   "pygments_lexer": "ipython2",
   "version": "2.7.9"
  }
 },
 "nbformat": 4,
 "nbformat_minor": 0
}
