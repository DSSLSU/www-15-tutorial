{
 "cells": [
  {
   "cell_type": "markdown",
   "metadata": {
    "slideshow": {
     "slide_type": "slide"
    }
   },
   "source": [
    "# Making your own data"
   ]
  },
  {
   "cell_type": "markdown",
   "metadata": {
    "slideshow": {
     "slide_type": "slide"
    }
   },
   "source": [
    "### Overview\n",
    "- How PlanOut logs data\n",
    "- Flow for loading and analyzing data\n",
    "- Putting it all together: simulated web app and example analysis"
   ]
  },
  {
   "cell_type": "code",
   "execution_count": 1,
   "metadata": {
    "collapsed": false,
    "slideshow": {
     "slide_type": "skip"
    }
   },
   "outputs": [],
   "source": [
    "%load_ext rpy2.ipython\n",
    "from planout.ops.random import *\n",
    "from planout.experiment import SimpleExperiment\n",
    "import pandas as pd\n",
    "import json\n",
    "import random"
   ]
  },
  {
   "cell_type": "code",
   "execution_count": 2,
   "metadata": {
    "collapsed": false,
    "slideshow": {
     "slide_type": "skip"
    }
   },
   "outputs": [
    {
     "data": {
      "text/plain": [
       "\n",
       "Attaching package: ‘dplyr’\n",
       "\n",
       "The following object is masked from ‘package:stats’:\n",
       "\n",
       "    filter\n",
       "\n",
       "The following objects are masked from ‘package:base’:\n",
       "\n",
       "    intersect, setdiff, setequal, union\n",
       "\n"
      ]
     },
     "metadata": {},
     "output_type": "display_data"
    }
   ],
   "source": [
    "%%R\n",
    "library(dplyr)"
   ]
  },
  {
   "cell_type": "markdown",
   "metadata": {
    "slideshow": {
     "slide_type": "slide"
    }
   },
   "source": [
    "# Logging"
   ]
  },
  {
   "cell_type": "markdown",
   "metadata": {
    "slideshow": {
     "slide_type": "slide"
    }
   },
   "source": [
    "## Log files"
   ]
  },
  {
   "cell_type": "markdown",
   "metadata": {},
   "source": [
    "Create a new experiment and get a randomized assignment"
   ]
  },
  {
   "cell_type": "code",
   "execution_count": 3,
   "metadata": {
    "collapsed": false
   },
   "outputs": [
    {
     "name": "stdout",
     "output_type": "stream",
     "text": [
      "Say something.\n"
     ]
    }
   ],
   "source": [
    "class LoggedExperiment(SimpleExperiment):\n",
    "    def assign(self, params, userid):\n",
    "        params.x = UniformChoice(\n",
    "            choices=[\"What's on your mind?\", \"Say something.\"],\n",
    "            unit=userid\n",
    "        )\n",
    "        params.y = BernoulliTrial(p=0.5, unit=userid)\n",
    "\n",
    "print LoggedExperiment(userid=8).get('x')"
   ]
  },
  {
   "cell_type": "markdown",
   "metadata": {},
   "source": [
    "* Then open your terminal, navigate to the directory this notebook is in, and type:\n",
    "\n",
    "```\n",
    "> tail -f LoggedExperiment.log\n",
    "```\n",
    "\n",
    "* By default, `SimpleExperiment` logs to a file whose name is the class name of your experiment.\n"
   ]
  },
  {
   "cell_type": "markdown",
   "metadata": {
    "slideshow": {
     "slide_type": "slide"
    }
   },
   "source": [
    "### Exposure logging"
   ]
  },
  {
   "cell_type": "markdown",
   "metadata": {},
   "source": [
    "- Parameter assignments are logged automatically the first time you retrieve a parameter\n",
    "- Logger can be configured to do caching, write to databases, etc."
   ]
  },
  {
   "cell_type": "code",
   "execution_count": 4,
   "metadata": {
    "collapsed": false
   },
   "outputs": [
    {
     "name": "stdout",
     "output_type": "stream",
     "text": [
      "What's on your mind?\n",
      "1\n"
     ]
    }
   ],
   "source": [
    "e = LoggedExperiment(userid=7)\n",
    "print e.get('x')\n",
    "print e.get('y')"
   ]
  },
  {
   "cell_type": "markdown",
   "metadata": {
    "slideshow": {
     "slide_type": "slide"
    }
   },
   "source": [
    "### Manual exposure logging"
   ]
  },
  {
   "cell_type": "markdown",
   "metadata": {},
   "source": [
    "Calling `log_exposure()` will force PlanOut to log an exposure event. You can optionally pass in additional data."
   ]
  },
  {
   "cell_type": "code",
   "execution_count": 5,
   "metadata": {
    "collapsed": false
   },
   "outputs": [],
   "source": [
    "e.log_exposure()\n",
    "e.log_exposure({'endpoint': 'home.py'})"
   ]
  },
  {
   "cell_type": "markdown",
   "metadata": {
    "slideshow": {
     "slide_type": "slide"
    }
   },
   "source": [
    "### Event logging"
   ]
  },
  {
   "cell_type": "markdown",
   "metadata": {},
   "source": [
    "You can also log arbitrary events. The first argument to `log_event()` is a required parameter that specifies the event type."
   ]
  },
  {
   "cell_type": "code",
   "execution_count": 6,
   "metadata": {
    "collapsed": false
   },
   "outputs": [],
   "source": [
    "e.log_event('post_status_update')\n",
    "e.log_event('post_status_update', {'type': 'photo'})"
   ]
  },
  {
   "cell_type": "markdown",
   "metadata": {
    "slideshow": {
     "slide_type": "slide"
    }
   },
   "source": [
    "## Custom logging"
   ]
  },
  {
   "cell_type": "markdown",
   "metadata": {},
   "source": [
    "- Logging method is configurable, can be used to log to databases, etc."
   ]
  },
  {
   "cell_type": "code",
   "execution_count": 7,
   "metadata": {
    "collapsed": false
   },
   "outputs": [
    {
     "name": "stdout",
     "output_type": "stream",
     "text": [
      "{\"inputs\": {\"userid\": 7}, \"name\": \"CustomLoggedExperiment\", \"params\": {\"y\": 1, \"x\": \"What's on your mind?\"}, \"time\": 1432027910, \"salt\": \"CustomLoggedExperiment\", \"event\": \"exposure\"}\n",
      "What's on your mind?\n"
     ]
    }
   ],
   "source": [
    "class CustomLoggedExperiment(SimpleExperiment):\n",
    "    def assign(self, params, userid):\n",
    "        params.x = UniformChoice(\n",
    "            choices=[\"What's on your mind?\", \"Say something.\"],\n",
    "            unit=userid\n",
    "        )\n",
    "        params.y = BernoulliTrial(p=0.5, unit=userid)\n",
    "\n",
    "    def log(self, data):\n",
    "        print json.dumps(data)\n",
    "        \n",
    "e = CustomLoggedExperiment(userid=7)\n",
    "print e.get('x')"
   ]
  },
  {
   "cell_type": "markdown",
   "metadata": {
    "slideshow": {
     "slide_type": "slide"
    }
   },
   "source": [
    "# Putting it all together"
   ]
  },
  {
   "cell_type": "markdown",
   "metadata": {},
   "source": [
    "* Hypothetical experiment looks at the effect of sorting a music album's songs by popularity\n",
    "* Simulate components of a music store experiment\n",
    " * Experiment definition (PlanOut)\n",
    " * Code to render the web page\n",
    " * Code to handle item purchases (this logs the \"conversion\" event)\n",
    " * Code to simulate the process of users' purchase decision-making\n",
    " * A loop that simulates many users viewing many albums"
   ]
  },
  {
   "cell_type": "markdown",
   "metadata": {
    "slideshow": {
     "slide_type": "slide"
    }
   },
   "source": [
    "### Experiment definition"
   ]
  },
  {
   "cell_type": "code",
   "execution_count": 17,
   "metadata": {
    "collapsed": false
   },
   "outputs": [],
   "source": [
    "class MusicExperiment(SimpleExperiment):\n",
    "    def assign(self, params, userid):\n",
    "        params.sort_by_rating = BernoulliTrial(p=0.2, unit=userid)"
   ]
  },
  {
   "cell_type": "markdown",
   "metadata": {
    "slideshow": {
     "slide_type": "slide"
    }
   },
   "source": [
    "### Rendering web page"
   ]
  },
  {
   "cell_type": "code",
   "execution_count": 18,
   "metadata": {
    "collapsed": false
   },
   "outputs": [],
   "source": [
    "def get_price(albumid):\n",
    "    \"look up the price of an album\"\n",
    "    # this would realistically hook into a database\n",
    "    return 11.99"
   ]
  },
  {
   "cell_type": "code",
   "execution_count": 19,
   "metadata": {
    "collapsed": false
   },
   "outputs": [],
   "source": [
    "def render_webpage(userid, albumid):\n",
    "    'simulated web page rendering function'\n",
    "    \n",
    "    # get experiment for the given user / album pair.\n",
    "    e = MusicExperiment(userid=userid)\n",
    "    \n",
    "    # use log_exposure() so that we can also record the price\n",
    "    e.log_exposure({'price': get_price(albumid), 'albumid': albumid})\n",
    "    \n",
    "    # use a default value with get() in production settings, in case\n",
    "    # your experimentation system goes down\n",
    "    if e.get('sort_by_rating', False):\n",
    "        songs = \"some sorted songs\" # this would sort the songs by rating\n",
    "    else:\n",
    "        songs = \"some non-sorted songs\"\n",
    "    \n",
    "    html = \"some HTML code involving %s\" % songs  # most valid html ever.\n",
    "    # render html"
   ]
  },
  {
   "cell_type": "markdown",
   "metadata": {
    "slideshow": {
     "slide_type": "slide"
    }
   },
   "source": [
    "### Logging outcomes"
   ]
  },
  {
   "cell_type": "code",
   "execution_count": 20,
   "metadata": {
    "collapsed": false
   },
   "outputs": [],
   "source": [
    "def handle_purchase(userid, albumid):\n",
    "    'handles purchase of an album'\n",
    "    e = MusicExperiment(userid=userid)\n",
    "    e.log_event('purchase', {'price': get_price(albumid), 'albumid': albumid})\n",
    "    # start album download"
   ]
  },
  {
   "cell_type": "markdown",
   "metadata": {
    "slideshow": {
     "slide_type": "slide"
    }
   },
   "source": [
    "### Generative model of user decision making"
   ]
  },
  {
   "cell_type": "code",
   "execution_count": 21,
   "metadata": {
    "collapsed": false
   },
   "outputs": [],
   "source": [
    "def simulate_user_decision(userid, albumid):\n",
    "    'simulate user experience'\n",
    "    # This function should be thought of as simulating a users' decision-making\n",
    "    # process for the given stimulus - and so we don't actually want to do any\n",
    "    # logging here.\n",
    "    e = MusicExperiment(userid=userid)\n",
    "    e.set_auto_exposure_logging(False)  # turn off auto-logging\n",
    "    \n",
    "    # users with sorted songs have a higher purchase rate\n",
    "    if e.get('sort_by_rating'):\n",
    "        prob_purchase = 0.15\n",
    "    else:\n",
    "        prob_purchase = 0.10\n",
    "    \n",
    "    # make purchase with probability prob_purchase\n",
    "    return random.random() < prob_purchase"
   ]
  },
  {
   "cell_type": "markdown",
   "metadata": {
    "slideshow": {
     "slide_type": "slide"
    }
   },
   "source": [
    "### Running the simulation"
   ]
  },
  {
   "cell_type": "code",
   "execution_count": 22,
   "metadata": {
    "collapsed": false
   },
   "outputs": [],
   "source": [
    "# We then simulate 500 users' visitation to 20 albums, and their decision to purchase\n",
    "random.seed(0)\n",
    "for u in xrange(500):\n",
    "    for a in xrange(20):\n",
    "        render_webpage(u, a)\n",
    "        if simulate_user_decision(u, a):\n",
    "            handle_purchase(u, a)"
   ]
  },
  {
   "cell_type": "markdown",
   "metadata": {
    "slideshow": {
     "slide_type": "slide"
    }
   },
   "source": [
    "# Analyzing your experiment"
   ]
  },
  {
   "cell_type": "markdown",
   "metadata": {
    "slideshow": {
     "slide_type": "slide"
    }
   },
   "source": [
    "### Standard analysis procedure\n",
    "- Data is logged to JSON.\n",
    "- Use a script to flatten file into tabular format\n",
    "- Join exposure data with outcome data\n",
    "- Analyze results"
   ]
  },
  {
   "cell_type": "code",
   "execution_count": 23,
   "metadata": {
    "collapsed": true,
    "slideshow": {
     "slide_type": "skip"
    }
   },
   "outputs": [],
   "source": [
    "# stolen from http://stackoverflow.com/questions/23019119/converting-multilevel-nested-dictionaries-to-pandas-dataframe\n",
    "from collections import OrderedDict\n",
    "def flatten(d):\n",
    "    \"Flatten an OrderedDict object\"\n",
    "    result = OrderedDict()\n",
    "    for k, v in d.items():\n",
    "        if isinstance(v, dict):\n",
    "            result.update(flatten(v))\n",
    "        else:\n",
    "            result[k] = v\n",
    "    return result"
   ]
  },
  {
   "cell_type": "code",
   "execution_count": 24,
   "metadata": {
    "collapsed": false
   },
   "outputs": [],
   "source": [
    "def log2csv(filename):\n",
    "    raw_log_data = [json.loads(i) for i in open(filename)]\n",
    "    log_data = pd.DataFrame.from_dict([flatten(i) for i in raw_log_data])\n",
    "    log_data.to_csv(filename[:-4] + '.csv', index=False)"
   ]
  },
  {
   "cell_type": "code",
   "execution_count": 25,
   "metadata": {
    "collapsed": false
   },
   "outputs": [],
   "source": [
    "log2csv('MusicExperiment.log')"
   ]
  },
  {
   "cell_type": "code",
   "execution_count": 26,
   "metadata": {
    "collapsed": false
   },
   "outputs": [
    {
     "data": {
      "text/plain": [
       "     albumid    event            name price            salt sort_by_rating\n",
       "2207       0 exposure MusicExperiment 11.99 MusicExperiment              0\n",
       "137        7 exposure MusicExperiment 11.99 MusicExperiment              0\n",
       "6626      12 exposure MusicExperiment 11.99 MusicExperiment              0\n",
       "2916      17 exposure MusicExperiment 11.99 MusicExperiment              0\n",
       "7729       8 exposure MusicExperiment 11.99 MusicExperiment              0\n",
       "4691      17 exposure MusicExperiment 11.99 MusicExperiment              1\n",
       "9616       9 exposure MusicExperiment 11.99 MusicExperiment              1\n",
       "228       10 exposure MusicExperiment 11.99 MusicExperiment              0\n",
       "8959      13 exposure MusicExperiment 11.99 MusicExperiment              1\n",
       "6247       9 exposure MusicExperiment 11.99 MusicExperiment              0\n",
       "           time userid\n",
       "2207 1432027960     99\n",
       "137  1432027960      6\n",
       "6626 1432027961    297\n",
       "2916 1432027960    130\n",
       "7729 1432027961    347\n",
       "4691 1432027961    210\n",
       "9616 1432027961    432\n",
       "228  1432027960     10\n",
       "8959 1432027961    402\n",
       "6247 1432027961    280\n"
      ]
     },
     "metadata": {},
     "output_type": "display_data"
    }
   ],
   "source": [
    "%%R\n",
    "log.data <- read.csv('MusicExperiment.csv')\n",
    "print(log.data %>% sample_n(10))"
   ]
  },
  {
   "cell_type": "code",
   "execution_count": 27,
   "metadata": {
    "collapsed": false
   },
   "outputs": [
    {
     "data": {
      "text/plain": [
       "Source: local data frame [2 x 2]\n",
       "\n",
       "     event     n\n",
       "1 exposure 10000\n",
       "2 purchase  1127\n"
      ]
     },
     "metadata": {},
     "output_type": "display_data"
    }
   ],
   "source": [
    "%%R\n",
    "log.data %>%\n",
    "  group_by(event) %>%\n",
    "  summarise(n=n())"
   ]
  },
  {
   "cell_type": "markdown",
   "metadata": {
    "slideshow": {
     "slide_type": "slide"
    }
   },
   "source": [
    "### Exposure data"
   ]
  },
  {
   "cell_type": "markdown",
   "metadata": {},
   "source": [
    "We first extract all user-album pairs that were exposed to an experiemntal treatment, and their parameter assignments."
   ]
  },
  {
   "cell_type": "code",
   "execution_count": 28,
   "metadata": {
    "collapsed": false
   },
   "outputs": [
    {
     "data": {
      "text/plain": [
       "Source: local data frame [6 x 4]\n",
       "Groups: userid, albumid\n",
       "\n",
       "  userid albumid sort_by_rating first_exposure_time\n",
       "1      0       0              0          1432027960\n",
       "2      0       1              0          1432027960\n",
       "3      0       2              0          1432027960\n",
       "4      0       3              0          1432027960\n",
       "5      0       4              0          1432027960\n",
       "6      0       5              0          1432027960\n"
      ]
     },
     "metadata": {},
     "output_type": "display_data"
    }
   ],
   "source": [
    "%%R\n",
    "\n",
    "exposures <- log.data %>%\n",
    "  filter(event == 'exposure') %>%\n",
    "  group_by(userid, albumid, sort_by_rating) %>%\n",
    "  summarise(first_exposure_time=min(time))\n",
    "head(exposures)"
   ]
  },
  {
   "cell_type": "markdown",
   "metadata": {
    "slideshow": {
     "slide_type": "slide"
    }
   },
   "source": [
    "### Outcome data"
   ]
  },
  {
   "cell_type": "code",
   "execution_count": 29,
   "metadata": {
    "collapsed": false
   },
   "outputs": [
    {
     "ename": "NameError",
     "evalue": "name 'log_data' is not defined",
     "output_type": "error",
     "traceback": [
      "\u001b[0;31m---------------------------------------------------------------------------\u001b[0m",
      "\u001b[0;31mNameError\u001b[0m                                 Traceback (most recent call last)",
      "\u001b[0;32m<ipython-input-29-771b8fa4cdfd>\u001b[0m in \u001b[0;36m<module>\u001b[0;34m()\u001b[0m\n\u001b[0;32m----> 1\u001b[0;31m \u001b[0mconversions\u001b[0m \u001b[0;34m=\u001b[0m \u001b[0mlog_data\u001b[0m\u001b[0;34m[\u001b[0m\u001b[0mlog_data\u001b[0m\u001b[0;34m.\u001b[0m\u001b[0mevent\u001b[0m\u001b[0;34m==\u001b[0m\u001b[0;34m'purchase'\u001b[0m\u001b[0;34m]\u001b[0m\u001b[0;34m[\u001b[0m\u001b[0;34m[\u001b[0m\u001b[0;34m'userid'\u001b[0m\u001b[0;34m,\u001b[0m \u001b[0;34m'albumid'\u001b[0m\u001b[0;34m,\u001b[0m\u001b[0;34m'price'\u001b[0m\u001b[0;34m]\u001b[0m\u001b[0;34m]\u001b[0m\u001b[0;34m\u001b[0m\u001b[0m\n\u001b[0m\u001b[1;32m      2\u001b[0m \u001b[0mdf\u001b[0m \u001b[0;34m=\u001b[0m \u001b[0mpd\u001b[0m\u001b[0;34m.\u001b[0m\u001b[0mmerge\u001b[0m\u001b[0;34m(\u001b[0m\u001b[0munique_exposures\u001b[0m\u001b[0;34m,\u001b[0m \u001b[0mconversions\u001b[0m\u001b[0;34m,\u001b[0m \u001b[0mon\u001b[0m\u001b[0;34m=\u001b[0m\u001b[0;34m[\u001b[0m\u001b[0;34m'userid'\u001b[0m\u001b[0;34m,\u001b[0m \u001b[0;34m'albumid'\u001b[0m\u001b[0;34m]\u001b[0m\u001b[0;34m,\u001b[0m \u001b[0mhow\u001b[0m\u001b[0;34m=\u001b[0m\u001b[0;34m'left'\u001b[0m\u001b[0;34m)\u001b[0m\u001b[0;34m\u001b[0m\u001b[0m\n\u001b[1;32m      3\u001b[0m \u001b[0mdf\u001b[0m\u001b[0;34m[\u001b[0m\u001b[0;34m'purchased'\u001b[0m\u001b[0;34m]\u001b[0m \u001b[0;34m=\u001b[0m \u001b[0mdf\u001b[0m\u001b[0;34m.\u001b[0m\u001b[0mprice\u001b[0m\u001b[0;34m.\u001b[0m\u001b[0mnotnull\u001b[0m\u001b[0;34m(\u001b[0m\u001b[0;34m)\u001b[0m\u001b[0;34m\u001b[0m\u001b[0m\n\u001b[1;32m      4\u001b[0m \u001b[0mdf\u001b[0m\u001b[0;34m[\u001b[0m\u001b[0;34m'revenue'\u001b[0m\u001b[0;34m]\u001b[0m \u001b[0;34m=\u001b[0m \u001b[0mdf\u001b[0m\u001b[0;34m.\u001b[0m\u001b[0mpurchased\u001b[0m \u001b[0;34m*\u001b[0m \u001b[0mdf\u001b[0m\u001b[0;34m.\u001b[0m\u001b[0mprice\u001b[0m\u001b[0;34m.\u001b[0m\u001b[0mfillna\u001b[0m\u001b[0;34m(\u001b[0m\u001b[0;36m0\u001b[0m\u001b[0;34m)\u001b[0m\u001b[0;34m\u001b[0m\u001b[0m\n",
      "\u001b[0;31mNameError\u001b[0m: name 'log_data' is not defined"
     ]
    }
   ],
   "source": [
    "conversions = log_data[log_data.event=='purchase'][['userid', 'albumid','price']]\n",
    "df = pd.merge(unique_exposures, conversions, on=['userid', 'albumid'], how='left')\n",
    "df['purchased'] = df.price.notnull()\n",
    "df['revenue'] = df.purchased * df.price.fillna(0)"
   ]
  },
  {
   "cell_type": "code",
   "execution_count": 30,
   "metadata": {
    "collapsed": false
   },
   "outputs": [
    {
     "data": {
      "text/plain": [
       "Source: local data frame [6 x 4]\n",
       "Groups: userid, albumid\n",
       "\n",
       "  userid albumid price purchase_time\n",
       "1      1      15 11.99    1432027960\n",
       "2      2       0 11.99    1432027960\n",
       "3      2      12 11.99    1432027960\n",
       "4      3      15 11.99    1432027960\n",
       "5      4      17 11.99    1432027960\n",
       "6      5      12 11.99    1432027960\n"
      ]
     },
     "metadata": {},
     "output_type": "display_data"
    }
   ],
   "source": [
    "%%R\n",
    "conversions <- log.data %>%\n",
    "  filter(event == 'purchase') %>%\n",
    "  group_by(userid, albumid, price) %>%\n",
    "  summarise(purchase_time=min(time))\n",
    "head(conversions)"
   ]
  },
  {
   "cell_type": "markdown",
   "metadata": {
    "slideshow": {
     "slide_type": "slide"
    }
   },
   "source": [
    "### Joining treatments with outcomes"
   ]
  },
  {
   "cell_type": "code",
   "execution_count": 31,
   "metadata": {
    "collapsed": false
   },
   "outputs": [
    {
     "data": {
      "text/plain": [
       "Source: local data frame [6 x 6]\n",
       "Groups: userid, albumid\n",
       "\n",
       "  userid albumid sort_by_rating price purchased revenue\n",
       "1      0       0              0    NA     FALSE       0\n",
       "2      0       1              0    NA     FALSE       0\n",
       "3      0       2              0    NA     FALSE       0\n",
       "4      0       3              0    NA     FALSE       0\n",
       "5      0       4              0    NA     FALSE       0\n",
       "6      0       5              0    NA     FALSE       0\n"
      ]
     },
     "metadata": {},
     "output_type": "display_data"
    }
   ],
   "source": [
    "%%R\n",
    "all <- left_join(exposures, conversions, by=c('userid', 'albumid')) %>%\n",
    "  mutate(\n",
    "    purchased=!is.na(purchase_time),\n",
    "    revenue=ifelse(purchased, price, 0)\n",
    "  ) %>%\n",
    "  select(userid, albumid, sort_by_rating, price, purchased, revenue)\n",
    "head(all)"
   ]
  },
  {
   "cell_type": "markdown",
   "metadata": {
    "slideshow": {
     "slide_type": "slide"
    }
   },
   "source": [
    "### Analyzing the experimental results"
   ]
  },
  {
   "cell_type": "markdown",
   "metadata": {},
   "source": [
    "We successfully recover the purchase probability treatment effect"
   ]
  },
  {
   "cell_type": "code",
   "execution_count": 32,
   "metadata": {
    "collapsed": false
   },
   "outputs": [
    {
     "data": {
      "text/plain": [
       "Source: local data frame [2 x 4]\n",
       "\n",
       "  sort_by_rating prob.purchase avg.revenue    n\n",
       "1              0     0.1035802    1.241927 8100\n",
       "2              1     0.1515789    1.817432 1900\n"
      ]
     },
     "metadata": {},
     "output_type": "display_data"
    }
   ],
   "source": [
    "%%R\n",
    "all %>%\n",
    "  group_by(sort_by_rating) %>%\n",
    "  summarise(\n",
    "      prob.purchase=mean(purchased),\n",
    "      avg.revenue=mean(revenue),\n",
    "      n=n()\n",
    "  )"
   ]
  },
  {
   "cell_type": "markdown",
   "metadata": {
    "slideshow": {
     "slide_type": "slide"
    }
   },
   "source": [
    "### Analyzing the experimental results"
   ]
  },
  {
   "cell_type": "markdown",
   "metadata": {},
   "source": [
    "For the given $p$ and $N$, OLS gives us quick and reasonable approximation of the SE for our ATE."
   ]
  },
  {
   "cell_type": "code",
   "execution_count": 33,
   "metadata": {
    "collapsed": false
   },
   "outputs": [
    {
     "data": {
      "text/plain": [
       "\n",
       "Call:\n",
       "lm(formula = purchased ~ sort_by_rating, data = all)\n",
       "\n",
       "Residuals:\n",
       "    Min      1Q  Median      3Q     Max \n",
       "-0.1516 -0.1036 -0.1036 -0.1036  0.8964 \n",
       "\n",
       "Coefficients:\n",
       "               Estimate Std. Error t value Pr(>|t|)    \n",
       "(Intercept)    0.103580   0.003508  29.529  < 2e-16 ***\n",
       "sort_by_rating 0.047999   0.008047   5.965 2.54e-09 ***\n",
       "---\n",
       "Signif. codes:  0 ‘***’ 0.001 ‘**’ 0.01 ‘*’ 0.05 ‘.’ 0.1 ‘ ’ 1\n",
       "\n",
       "Residual standard error: 0.3157 on 9998 degrees of freedom\n",
       "Multiple R-squared:  0.003546,\tAdjusted R-squared:  0.003446 \n",
       "F-statistic: 35.58 on 1 and 9998 DF,  p-value: 2.536e-09\n",
       "\n"
      ]
     },
     "metadata": {},
     "output_type": "display_data"
    }
   ],
   "source": [
    "%%R\n",
    "print(summary(lm(purchased ~ sort_by_rating, data=all)))"
   ]
  },
  {
   "cell_type": "code",
   "execution_count": 34,
   "metadata": {
    "collapsed": false
   },
   "outputs": [
    {
     "data": {
      "text/plain": [
       "\n",
       "Call:\n",
       "lm(formula = revenue ~ sort_by_rating, data = all)\n",
       "\n",
       "Residuals:\n",
       "   Min     1Q Median     3Q    Max \n",
       "-1.817 -1.242 -1.242 -1.242 10.748 \n",
       "\n",
       "Coefficients:\n",
       "               Estimate Std. Error t value Pr(>|t|)    \n",
       "(Intercept)     1.24193    0.04206  29.529  < 2e-16 ***\n",
       "sort_by_rating  0.57550    0.09649   5.965 2.54e-09 ***\n",
       "---\n",
       "Signif. codes:  0 ‘***’ 0.001 ‘**’ 0.01 ‘*’ 0.05 ‘.’ 0.1 ‘ ’ 1\n",
       "\n",
       "Residual standard error: 3.785 on 9998 degrees of freedom\n",
       "Multiple R-squared:  0.003546,\tAdjusted R-squared:  0.003446 \n",
       "F-statistic: 35.58 on 1 and 9998 DF,  p-value: 2.536e-09\n",
       "\n"
      ]
     },
     "metadata": {},
     "output_type": "display_data"
    }
   ],
   "source": [
    "%%R\n",
    "print(summary(lm(revenue ~ sort_by_rating, data=all)))"
   ]
  },
  {
   "cell_type": "markdown",
   "metadata": {
    "slideshow": {
     "slide_type": "slide"
    }
   },
   "source": [
    "### Exercise: How would you analyze the selective exposure experiment?\n",
    "- Think about:\n",
    " - What data would you need to log?\n",
    " - How would you verify that your data looks sane?\n",
    " - How would you measure your treatment effect?"
   ]
  }
 ],
 "metadata": {
  "celltoolbar": "Slideshow",
  "kernelspec": {
   "display_name": "Python 2",
   "language": "python",
   "name": "python2"
  },
  "language_info": {
   "codemirror_mode": {
    "name": "ipython",
    "version": 2
   },
   "file_extension": ".py",
   "mimetype": "text/x-python",
   "name": "python",
   "nbconvert_exporter": "python",
   "pygments_lexer": "ipython2",
   "version": "2.7.9"
  }
 },
 "nbformat": 4,
 "nbformat_minor": 0
}
