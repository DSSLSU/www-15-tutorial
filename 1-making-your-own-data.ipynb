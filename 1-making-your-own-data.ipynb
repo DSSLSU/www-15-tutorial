{
 "cells": [
  {
   "cell_type": "markdown",
   "metadata": {
    "slideshow": {
     "slide_type": "slide"
    }
   },
   "source": [
    "# Making your own data"
   ]
  },
  {
   "cell_type": "markdown",
   "metadata": {
    "slideshow": {
     "slide_type": "slide"
    }
   },
   "source": [
    "### Overview\n",
    "- How PlanOut logs data\n",
    "- Flow for loading and analyzing data\n",
    "- Putting it all together: simulated web app and example analysis"
   ]
  },
  {
   "cell_type": "code",
   "execution_count": 46,
   "metadata": {
    "collapsed": false,
    "slideshow": {
     "slide_type": "skip"
    }
   },
   "outputs": [
    {
     "name": "stdout",
     "output_type": "stream",
     "text": [
      "The rpy2.ipython extension is already loaded. To reload it, use:\n",
      "  %reload_ext rpy2.ipython\n"
     ]
    }
   ],
   "source": [
    "%load_ext rpy2.ipython\n",
    "from planout.ops.random import *\n",
    "from planout.experiment import SimpleExperiment\n",
    "import pandas as pd\n",
    "import json\n",
    "import random"
   ]
  },
  {
   "cell_type": "code",
   "execution_count": 59,
   "metadata": {
    "collapsed": true
   },
   "outputs": [],
   "source": [
    "%%R\n",
    "library(dplyr)"
   ]
  },
  {
   "cell_type": "markdown",
   "metadata": {
    "slideshow": {
     "slide_type": "slide"
    }
   },
   "source": [
    "# Logging"
   ]
  },
  {
   "cell_type": "markdown",
   "metadata": {
    "slideshow": {
     "slide_type": "slide"
    }
   },
   "source": [
    "## Log files"
   ]
  },
  {
   "cell_type": "markdown",
   "metadata": {},
   "source": [
    "Create a new experiment and get a randomized assignment"
   ]
  },
  {
   "cell_type": "code",
   "execution_count": 25,
   "metadata": {
    "collapsed": false
   },
   "outputs": [
    {
     "name": "stdout",
     "output_type": "stream",
     "text": [
      "Say something.\n"
     ]
    }
   ],
   "source": [
    "class LoggedExperiment(SimpleExperiment):\n",
    "    def assign(self, params, userid):\n",
    "        params.x = UniformChoice(\n",
    "            choices=[\"What's on your mind?\", \"Say something.\"],\n",
    "            unit=userid\n",
    "        )\n",
    "        params.y = BernoulliTrial(p=0.5, unit=userid)\n",
    "\n",
    "print LoggedExperiment(userid=8).get('x')"
   ]
  },
  {
   "cell_type": "markdown",
   "metadata": {},
   "source": [
    "Then open your terminal, navigate to the directory this notebook is in, and type:\n",
    "\n",
    "```\n",
    "> tail -f LoggedExperiment.log\n",
    "```\n",
    "\n",
    "You can now see how data is logged to your experiment as its run."
   ]
  },
  {
   "cell_type": "markdown",
   "metadata": {
    "slideshow": {
     "slide_type": "slide"
    }
   },
   "source": [
    "### Exposure logging"
   ]
  },
  {
   "cell_type": "markdown",
   "metadata": {},
   "source": [
    "- Parameter assignments are logged automatically the first time you retrieve a parameter\n",
    "- Logger can be configured to do caching, write to databases, etc."
   ]
  },
  {
   "cell_type": "code",
   "execution_count": 26,
   "metadata": {
    "collapsed": false
   },
   "outputs": [
    {
     "name": "stdout",
     "output_type": "stream",
     "text": [
      "What's on your mind?\n",
      "1\n"
     ]
    }
   ],
   "source": [
    "e = LoggedExperiment(userid=7)\n",
    "print e.get('x')\n",
    "print e.get('y')"
   ]
  },
  {
   "cell_type": "markdown",
   "metadata": {
    "slideshow": {
     "slide_type": "slide"
    }
   },
   "source": [
    "### Manual exposure logging"
   ]
  },
  {
   "cell_type": "markdown",
   "metadata": {},
   "source": [
    "Calling `log_exposure()` will force PlanOut to log an exposure event. You can optionally pass in additional data."
   ]
  },
  {
   "cell_type": "code",
   "execution_count": 27,
   "metadata": {
    "collapsed": false
   },
   "outputs": [],
   "source": [
    "e.log_exposure()\n",
    "e.log_exposure({'endpoint': 'home.py'})"
   ]
  },
  {
   "cell_type": "markdown",
   "metadata": {
    "slideshow": {
     "slide_type": "slide"
    }
   },
   "source": [
    "### Event logging"
   ]
  },
  {
   "cell_type": "markdown",
   "metadata": {},
   "source": [
    "You can also log arbitrary events. The first argument to `log_event()` is a required parameter that specifies the event type."
   ]
  },
  {
   "cell_type": "code",
   "execution_count": 28,
   "metadata": {
    "collapsed": false
   },
   "outputs": [],
   "source": [
    "e.log_event('post_status_update')\n",
    "e.log_event('post_status_update', {'type': 'photo'})"
   ]
  },
  {
   "cell_type": "markdown",
   "metadata": {
    "slideshow": {
     "slide_type": "slide"
    }
   },
   "source": [
    "## Custom logging"
   ]
  },
  {
   "cell_type": "markdown",
   "metadata": {},
   "source": [
    "- Logging method is configurable\n",
    "- Can write to arbitrary loggers"
   ]
  },
  {
   "cell_type": "code",
   "execution_count": 48,
   "metadata": {
    "collapsed": false
   },
   "outputs": [
    {
     "name": "stdout",
     "output_type": "stream",
     "text": [
      "{\"inputs\": {\"userid\": 7}, \"name\": \"CustomLoggedExperiment\", \"params\": {\"y\": 1, \"x\": \"What's on your mind?\"}, \"time\": 1431931033, \"salt\": \"CustomLoggedExperiment\", \"event\": \"exposure\"}\n",
      "What's on your mind?\n"
     ]
    }
   ],
   "source": [
    "class CustomLoggedExperiment(SimpleExperiment):\n",
    "    def assign(self, params, userid):\n",
    "        params.x = UniformChoice(\n",
    "            choices=[\"What's on your mind?\", \"Say something.\"],\n",
    "            unit=userid\n",
    "        )\n",
    "        params.y = BernoulliTrial(p=0.5, unit=userid)\n",
    "    def log(self, data):\n",
    "        print json.dumps(data)\n",
    "        \n",
    "e = CustomLoggedExperiment(userid=7)\n",
    "print e.get('x')"
   ]
  },
  {
   "cell_type": "markdown",
   "metadata": {},
   "source": [
    "# Putting it all together"
   ]
  },
  {
   "cell_type": "markdown",
   "metadata": {},
   "source": [
    "We simulate the components of a PlanOut-driven website and show how data analysis would work in conjunction with the data generated from the simulation.\n",
    "\n",
    "This hypothetical experiment looks at the effect of sorting a music album's songs by popularity (instead of say track number) on a Web-based music store.\n",
    "\n",
    "Our website simulation consists of four main parts:\n",
    " * Code to render the web page (which uses PlanOut to decide how to display items)\n",
    " * Code to handle item purchases (this logs the \"conversion\" event)\n",
    " * Code to simulate the process of users' purchase decision-making\n",
    " * A loop that simulates many users viewing many albums"
   ]
  },
  {
   "cell_type": "code",
   "execution_count": 29,
   "metadata": {
    "collapsed": false
   },
   "outputs": [],
   "source": [
    "class MusicExperiment(SimpleExperiment):\n",
    "    def assign(self, params, userid, albumid):\n",
    "        params.sort_by_rating = BernoulliTrial(p=0.2, unit=[userid, albumid])"
   ]
  },
  {
   "cell_type": "code",
   "execution_count": 30,
   "metadata": {
    "collapsed": false
   },
   "outputs": [],
   "source": [
    "def get_price(albumid):\n",
    "    \"look up the price of an album\"\n",
    "    # this would realistically hook into a database\n",
    "    return 11.99"
   ]
  },
  {
   "cell_type": "markdown",
   "metadata": {},
   "source": [
    "#### Rendering the web page"
   ]
  },
  {
   "cell_type": "code",
   "execution_count": 31,
   "metadata": {
    "collapsed": false
   },
   "outputs": [],
   "source": [
    "def render_webpage(userid, albumid):\n",
    "    'simulated web page rendering function'\n",
    "    \n",
    "    # get experiment for the given user / album pair.\n",
    "    e = MusicExperiment(userid=userid, albumid=albumid)\n",
    "    \n",
    "    # use log_exposure() so that we can also record the price\n",
    "    e.log_exposure({'price': get_price(albumid)})\n",
    "    \n",
    "    # use a default value with get() in production settings, in case\n",
    "    # your experimentation system goes down\n",
    "    if e.get('sort_by_rating', False):\n",
    "        songs = \"some sorted songs\" # this would sort the songs by rating\n",
    "    else:\n",
    "        songs = \"some non-sorted songs\"\n",
    "    \n",
    "    html = \"some HTML code involving %s\" % songs  # most valid html ever.\n",
    "    # render html"
   ]
  },
  {
   "cell_type": "markdown",
   "metadata": {},
   "source": [
    "#### Logging outcomes"
   ]
  },
  {
   "cell_type": "code",
   "execution_count": 32,
   "metadata": {
    "collapsed": false
   },
   "outputs": [],
   "source": [
    "def handle_purchase(userid, albumid):\n",
    "    'handles purchase of an album'\n",
    "    e = MusicExperiment(userid=userid, albumid=albumid)\n",
    "    e.log_event('purchase', {'price': get_price(albumid)})\n",
    "    # start album download"
   ]
  },
  {
   "cell_type": "markdown",
   "metadata": {
    "slideshow": {
     "slide_type": "slide"
    }
   },
   "source": [
    "### Generative model of user decision making"
   ]
  },
  {
   "cell_type": "code",
   "execution_count": 39,
   "metadata": {
    "collapsed": false
   },
   "outputs": [],
   "source": [
    "def simulate_user_decision(userid, albumid):\n",
    "    'simulate user experience'\n",
    "    # This function should be thought of as simulating a users' decision-making\n",
    "    # process for the given stimulus - and so we don't actually want to do any\n",
    "    # logging here.\n",
    "    e = MusicExperiment(userid=userid, albumid=albumid)\n",
    "    e.set_auto_exposure_logging(False)  # turn off auto-logging\n",
    "    \n",
    "    # users with sorted songs have a higher purchase rate\n",
    "    if e.get('sort_by_rating'):\n",
    "        prob_purchase = 0.15\n",
    "    else:\n",
    "        prob_purchase = 0.10\n",
    "    \n",
    "    # make purchase with probability prob_purchase\n",
    "    return random.random() < prob_purchase"
   ]
  },
  {
   "cell_type": "markdown",
   "metadata": {
    "slideshow": {
     "slide_type": "slide"
    }
   },
   "source": [
    "### Running the simulation"
   ]
  },
  {
   "cell_type": "code",
   "execution_count": 40,
   "metadata": {
    "collapsed": false
   },
   "outputs": [],
   "source": [
    "# We then simulate 500 users' visitation to 20 albums, and their decision to purchase\n",
    "random.seed(0)\n",
    "for u in xrange(500):\n",
    "    for a in xrange(20):\n",
    "        render_webpage(u, a)\n",
    "        if simulate_user_decision(u, a):\n",
    "            handle_purchase(u, a)"
   ]
  },
  {
   "cell_type": "markdown",
   "metadata": {},
   "source": [
    "## Analyzing your experiment"
   ]
  },
  {
   "cell_type": "markdown",
   "metadata": {},
   "source": [
    "### Standard analysis procedure\n",
    "- Data is logged to JSON.\n",
    "- Use a script to flatten file into tabular format\n",
    "- "
   ]
  },
  {
   "cell_type": "code",
   "execution_count": null,
   "metadata": {
    "collapsed": true
   },
   "outputs": [],
   "source": [
    "# stolen from http://stackoverflow.com/questions/23019119/converting-multilevel-nested-dictionaries-to-pandas-dataframe\n",
    "from collections import OrderedDict\n",
    "def flatten(d):\n",
    "    \"Flatten an OrderedDict object\"\n",
    "    result = OrderedDict()\n",
    "    for k, v in d.items():\n",
    "        if isinstance(v, dict):\n",
    "            result.update(flatten(v))\n",
    "        else:\n",
    "            result[k] = v\n",
    "    return result"
   ]
  },
  {
   "cell_type": "code",
   "execution_count": 54,
   "metadata": {
    "collapsed": false
   },
   "outputs": [],
   "source": [
    "def log2csv(filename):\n",
    "    raw_log_data = [json.loads(i) for i in open(filename)]\n",
    "    log_data = pd.DataFrame.from_dict([flatten(i) for i in raw_log_data])\n",
    "    log_data.to_csv(filename[:-4] + '.csv', index=False)"
   ]
  },
  {
   "cell_type": "markdown",
   "metadata": {},
   "source": [
    "It's preferable to deal with the data as a flat set of columns. We use this handy-dandy function Eytan found on stackoverflow to flatten dictionaries."
   ]
  },
  {
   "cell_type": "markdown",
   "metadata": {},
   "source": [
    "Here is what the flattened dataframe looks like:"
   ]
  },
  {
   "cell_type": "code",
   "execution_count": 55,
   "metadata": {
    "collapsed": true
   },
   "outputs": [],
   "source": [
    "log2csv('MusicExperiment.log')"
   ]
  },
  {
   "cell_type": "code",
   "execution_count": 61,
   "metadata": {
    "collapsed": false
   },
   "outputs": [
    {
     "data": {
      "text/plain": [
       "      albumid    event            name price            salt sort_by_rating\n",
       "7566       14 exposure MusicExperiment 11.99 MusicExperiment              1\n",
       "2449       13 exposure MusicExperiment 11.99 MusicExperiment              0\n",
       "4493        1 exposure MusicExperiment 11.99 MusicExperiment              0\n",
       "10695       1 exposure MusicExperiment 11.99 MusicExperiment              1\n",
       "311         3 exposure MusicExperiment 11.99 MusicExperiment              0\n",
       "9624       19 exposure MusicExperiment 11.99 MusicExperiment              0\n",
       "1585        9 exposure MusicExperiment 11.99 MusicExperiment              0\n",
       "1065        4 exposure MusicExperiment 11.99 MusicExperiment              0\n",
       "9247       18 exposure MusicExperiment 11.99 MusicExperiment              0\n",
       "9925       10 exposure MusicExperiment 11.99 MusicExperiment              1\n",
       "            time userid\n",
       "7566  1431930243    340\n",
       "2449  1431930242    109\n",
       "4493  1431930243    202\n",
       "10695 1431930244    481\n",
       "311   1431930242     14\n",
       "9624  1431930243    432\n",
       "1585  1431930242     70\n",
       "1065  1431930242     47\n",
       "9247  1431930243    415\n",
       "9925  1431930244    446\n"
      ]
     },
     "metadata": {},
     "output_type": "display_data"
    }
   ],
   "source": [
    "%%R\n",
    "d <- read.csv('MusicExperiment.csv')\n",
    "print(d %>% sample_n(10))"
   ]
  },
  {
   "cell_type": "code",
   "execution_count": 64,
   "metadata": {
    "collapsed": false
   },
   "outputs": [
    {
     "data": {
      "text/plain": [
       "Source: local data frame [2 x 2]\n",
       "\n",
       "     event     n\n",
       "1 exposure 10000\n",
       "2 purchase  1123\n"
      ]
     },
     "metadata": {},
     "output_type": "display_data"
    }
   ],
   "source": [
    "%%R\n",
    "d %>%\n",
    "  group_by(event) %>%\n",
    "  summarise(n=n())"
   ]
  },
  {
   "cell_type": "markdown",
   "metadata": {},
   "source": [
    "### Joining exposure data with event data"
   ]
  },
  {
   "cell_type": "markdown",
   "metadata": {},
   "source": [
    "We first extract all user-album pairs that were exposed to an experiemntal treatment, and their parameter assignments."
   ]
  },
  {
   "cell_type": "code",
   "execution_count": 16,
   "metadata": {
    "collapsed": false
   },
   "outputs": [],
   "source": [
    "all_exposures = log_data[log_data.event=='exposure']\n",
    "unique_exposures = all_exposures[['userid','albumid','sort_by_rating']].drop_duplicates()"
   ]
  },
  {
   "cell_type": "markdown",
   "metadata": {},
   "source": [
    "Tabulating the users' assignments, we find that the assignment probabilities correspond to the design at the beginning of this notebook."
   ]
  },
  {
   "cell_type": "code",
   "execution_count": 17,
   "metadata": {
    "collapsed": false
   },
   "outputs": [
    {
     "data": {
      "text/html": [
       "<div style=\"max-height:1000px;max-width:1500px;overflow:auto;\">\n",
       "<table border=\"1\" class=\"dataframe\">\n",
       "  <thead>\n",
       "    <tr style=\"text-align: right;\">\n",
       "      <th></th>\n",
       "      <th>userid</th>\n",
       "    </tr>\n",
       "    <tr>\n",
       "      <th>sort_by_rating</th>\n",
       "      <th></th>\n",
       "    </tr>\n",
       "  </thead>\n",
       "  <tbody>\n",
       "    <tr>\n",
       "      <th>0</th>\n",
       "      <td> 8001</td>\n",
       "    </tr>\n",
       "    <tr>\n",
       "      <th>1</th>\n",
       "      <td> 1999</td>\n",
       "    </tr>\n",
       "  </tbody>\n",
       "</table>\n",
       "<p>2 rows × 1 columns</p>\n",
       "</div>"
      ],
      "text/plain": [
       "                userid\n",
       "sort_by_rating        \n",
       "0                 8001\n",
       "1                 1999\n",
       "\n",
       "[2 rows x 1 columns]"
      ]
     },
     "execution_count": 17,
     "metadata": {},
     "output_type": "execute_result"
    }
   ],
   "source": [
    "unique_exposures[['userid','sort_by_rating']].groupby('sort_by_rating').agg(len)"
   ]
  },
  {
   "cell_type": "markdown",
   "metadata": {},
   "source": [
    "Now we can merge with the conversion data."
   ]
  },
  {
   "cell_type": "code",
   "execution_count": 18,
   "metadata": {
    "collapsed": false
   },
   "outputs": [],
   "source": [
    "conversions = log_data[log_data.event=='purchase'][['userid', 'albumid','price']]\n",
    "df = pd.merge(unique_exposures, conversions, on=['userid', 'albumid'], how='left')\n",
    "df['purchased'] = df.price.notnull()\n",
    "df['revenue'] = df.purchased * df.price.fillna(0)"
   ]
  },
  {
   "cell_type": "markdown",
   "metadata": {},
   "source": [
    "Here is a sample of the merged rows. Most rows contain missing values for price, because the user didn't purchase the item."
   ]
  },
  {
   "cell_type": "code",
   "execution_count": 19,
   "metadata": {
    "collapsed": false
   },
   "outputs": [
    {
     "data": {
      "text/html": [
       "<div style=\"max-height:1000px;max-width:1500px;overflow:auto;\">\n",
       "<table border=\"1\" class=\"dataframe\">\n",
       "  <thead>\n",
       "    <tr style=\"text-align: right;\">\n",
       "      <th></th>\n",
       "      <th>userid</th>\n",
       "      <th>albumid</th>\n",
       "      <th>sort_by_rating</th>\n",
       "      <th>price</th>\n",
       "      <th>purchased</th>\n",
       "      <th>revenue</th>\n",
       "    </tr>\n",
       "  </thead>\n",
       "  <tbody>\n",
       "    <tr>\n",
       "      <th>0</th>\n",
       "      <td> 0</td>\n",
       "      <td> 0</td>\n",
       "      <td> 0</td>\n",
       "      <td>NaN</td>\n",
       "      <td> False</td>\n",
       "      <td> 0</td>\n",
       "    </tr>\n",
       "    <tr>\n",
       "      <th>1</th>\n",
       "      <td> 0</td>\n",
       "      <td> 1</td>\n",
       "      <td> 0</td>\n",
       "      <td>NaN</td>\n",
       "      <td> False</td>\n",
       "      <td> 0</td>\n",
       "    </tr>\n",
       "    <tr>\n",
       "      <th>2</th>\n",
       "      <td> 0</td>\n",
       "      <td> 2</td>\n",
       "      <td> 0</td>\n",
       "      <td>NaN</td>\n",
       "      <td> False</td>\n",
       "      <td> 0</td>\n",
       "    </tr>\n",
       "    <tr>\n",
       "      <th>3</th>\n",
       "      <td> 0</td>\n",
       "      <td> 3</td>\n",
       "      <td> 0</td>\n",
       "      <td>NaN</td>\n",
       "      <td> False</td>\n",
       "      <td> 0</td>\n",
       "    </tr>\n",
       "    <tr>\n",
       "      <th>4</th>\n",
       "      <td> 0</td>\n",
       "      <td> 4</td>\n",
       "      <td> 1</td>\n",
       "      <td>NaN</td>\n",
       "      <td> False</td>\n",
       "      <td> 0</td>\n",
       "    </tr>\n",
       "  </tbody>\n",
       "</table>\n",
       "<p>5 rows × 6 columns</p>\n",
       "</div>"
      ],
      "text/plain": [
       "   userid  albumid  sort_by_rating  price purchased  revenue\n",
       "0       0        0               0    NaN     False        0\n",
       "1       0        1               0    NaN     False        0\n",
       "2       0        2               0    NaN     False        0\n",
       "3       0        3               0    NaN     False        0\n",
       "4       0        4               1    NaN     False        0\n",
       "\n",
       "[5 rows x 6 columns]"
      ]
     },
     "execution_count": 19,
     "metadata": {},
     "output_type": "execute_result"
    }
   ],
   "source": [
    "df[:5]"
   ]
  },
  {
   "cell_type": "markdown",
   "metadata": {},
   "source": [
    "Restricted to those who bought something..."
   ]
  },
  {
   "cell_type": "code",
   "execution_count": 20,
   "metadata": {
    "collapsed": false
   },
   "outputs": [
    {
     "data": {
      "text/html": [
       "<div style=\"max-height:1000px;max-width:1500px;overflow:auto;\">\n",
       "<table border=\"1\" class=\"dataframe\">\n",
       "  <thead>\n",
       "    <tr style=\"text-align: right;\">\n",
       "      <th></th>\n",
       "      <th>userid</th>\n",
       "      <th>albumid</th>\n",
       "      <th>sort_by_rating</th>\n",
       "      <th>price</th>\n",
       "      <th>purchased</th>\n",
       "      <th>revenue</th>\n",
       "    </tr>\n",
       "  </thead>\n",
       "  <tbody>\n",
       "    <tr>\n",
       "      <th>35</th>\n",
       "      <td> 1</td>\n",
       "      <td> 15</td>\n",
       "      <td> 0</td>\n",
       "      <td> 11.99</td>\n",
       "      <td> True</td>\n",
       "      <td> 11.99</td>\n",
       "    </tr>\n",
       "    <tr>\n",
       "      <th>40</th>\n",
       "      <td> 2</td>\n",
       "      <td>  0</td>\n",
       "      <td> 0</td>\n",
       "      <td> 11.99</td>\n",
       "      <td> True</td>\n",
       "      <td> 11.99</td>\n",
       "    </tr>\n",
       "    <tr>\n",
       "      <th>52</th>\n",
       "      <td> 2</td>\n",
       "      <td> 12</td>\n",
       "      <td> 0</td>\n",
       "      <td> 11.99</td>\n",
       "      <td> True</td>\n",
       "      <td> 11.99</td>\n",
       "    </tr>\n",
       "    <tr>\n",
       "      <th>56</th>\n",
       "      <td> 2</td>\n",
       "      <td> 16</td>\n",
       "      <td> 1</td>\n",
       "      <td> 11.99</td>\n",
       "      <td> True</td>\n",
       "      <td> 11.99</td>\n",
       "    </tr>\n",
       "    <tr>\n",
       "      <th>75</th>\n",
       "      <td> 3</td>\n",
       "      <td> 15</td>\n",
       "      <td> 0</td>\n",
       "      <td> 11.99</td>\n",
       "      <td> True</td>\n",
       "      <td> 11.99</td>\n",
       "    </tr>\n",
       "  </tbody>\n",
       "</table>\n",
       "<p>5 rows × 6 columns</p>\n",
       "</div>"
      ],
      "text/plain": [
       "    userid  albumid  sort_by_rating  price purchased  revenue\n",
       "35       1       15               0  11.99      True    11.99\n",
       "40       2        0               0  11.99      True    11.99\n",
       "52       2       12               0  11.99      True    11.99\n",
       "56       2       16               1  11.99      True    11.99\n",
       "75       3       15               0  11.99      True    11.99\n",
       "\n",
       "[5 rows x 6 columns]"
      ]
     },
     "execution_count": 20,
     "metadata": {},
     "output_type": "execute_result"
    }
   ],
   "source": [
    "df[df.price > 0][:5]"
   ]
  },
  {
   "cell_type": "markdown",
   "metadata": {},
   "source": [
    "### Analyzing the experimental results"
   ]
  },
  {
   "cell_type": "code",
   "execution_count": 21,
   "metadata": {
    "collapsed": false
   },
   "outputs": [
    {
     "data": {
      "text/html": [
       "<div style=\"max-height:1000px;max-width:1500px;overflow:auto;\">\n",
       "<table border=\"1\" class=\"dataframe\">\n",
       "  <thead>\n",
       "    <tr style=\"text-align: right;\">\n",
       "      <th></th>\n",
       "      <th>purchased</th>\n",
       "      <th>price</th>\n",
       "      <th>revenue</th>\n",
       "    </tr>\n",
       "    <tr>\n",
       "      <th>sort_by_rating</th>\n",
       "      <th></th>\n",
       "      <th></th>\n",
       "      <th></th>\n",
       "    </tr>\n",
       "  </thead>\n",
       "  <tbody>\n",
       "    <tr>\n",
       "      <th>0</th>\n",
       "      <td> 0.103362</td>\n",
       "      <td> 11.99</td>\n",
       "      <td> 1.239311</td>\n",
       "    </tr>\n",
       "    <tr>\n",
       "      <th>1</th>\n",
       "      <td> 0.145573</td>\n",
       "      <td> 11.99</td>\n",
       "      <td> 1.745418</td>\n",
       "    </tr>\n",
       "  </tbody>\n",
       "</table>\n",
       "<p>2 rows × 3 columns</p>\n",
       "</div>"
      ],
      "text/plain": [
       "                purchased  price   revenue\n",
       "sort_by_rating                            \n",
       "0                0.103362  11.99  1.239311\n",
       "1                0.145573  11.99  1.745418\n",
       "\n",
       "[2 rows x 3 columns]"
      ]
     },
     "execution_count": 21,
     "metadata": {},
     "output_type": "execute_result"
    }
   ],
   "source": [
    "df.groupby('sort_by_rating')[['purchased', 'price', 'revenue']].agg(mean)"
   ]
  },
  {
   "cell_type": "markdown",
   "metadata": {},
   "source": [
    "If you were actually analyzing the experiment you would want to compute confidence intervals."
   ]
  }
 ],
 "metadata": {
  "celltoolbar": "Slideshow",
  "kernelspec": {
   "display_name": "Python 2",
   "language": "python",
   "name": "python2"
  },
  "language_info": {
   "codemirror_mode": {
    "name": "ipython",
    "version": 2
   },
   "file_extension": ".py",
   "mimetype": "text/x-python",
   "name": "python",
   "nbconvert_exporter": "python",
   "pygments_lexer": "ipython2",
   "version": "2.7.9"
  }
 },
 "nbformat": 4,
 "nbformat_minor": 0
}
